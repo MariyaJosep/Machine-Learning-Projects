{
  "nbformat": 4,
  "nbformat_minor": 0,
  "metadata": {
    "colab": {
      "provenance": []
    },
    "kernelspec": {
      "name": "python3",
      "display_name": "Python 3"
    },
    "language_info": {
      "name": "python"
    }
  },
  "cells": [
    {
      "cell_type": "code",
      "execution_count": null,
      "metadata": {
        "colab": {
          "base_uri": "https://localhost:8080/"
        },
        "id": "lxIzxO16cWKY",
        "outputId": "97fa4aa9-0891-452d-d5d2-4e32743ba65c"
      },
      "outputs": [
        {
          "output_type": "stream",
          "name": "stdout",
          "text": [
            "Enter the weight to form: 15\n",
            "Enter the number of weights: 5\n",
            "Enter weight 1: 4\n",
            "Enter weight 2: 3\n",
            "Enter weight 3: 5\n",
            "Enter weight 4: 6\n",
            "Enter weight 5: 4\n",
            "True\n"
          ]
        }
      ],
      "source": [
        "def can_form_weight(W, weights):\n",
        "    if W == 0:\n",
        "        return True\n",
        "\n",
        "    n = len(weights)\n",
        "    for i in range(1 << n):\n",
        "        current_sum = 0\n",
        "        for j in range(n):\n",
        "            if i & (1 << j):\n",
        "                current_sum += weights[j]\n",
        "                if current_sum == W:\n",
        "                    return True\n",
        "\n",
        "    return False\n",
        "\n",
        "# Taking input from the user\n",
        "W = int(input(\"Enter the weight to form: \"))\n",
        "n = int(input(\"Enter the number of weights: \"))\n",
        "if n>12:\n",
        "  print(\"List size is not acceptable\")\n",
        "else:  \n",
        "  weights = []\n",
        "  for i in range(n):\n",
        "    weight = int(input(f\"Enter weight {i+1}: \"))\n",
        "    weights.append(weight)\n",
        "  # Checking if weight W can be formed\n",
        "  result = can_form_weight(W, weights)\n",
        "  print(result)\n"
      ]
    }
  ]
}